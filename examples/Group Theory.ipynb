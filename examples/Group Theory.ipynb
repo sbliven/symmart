{
 "cells": [
  {
   "cell_type": "markdown",
   "id": "2626399d-a23d-4f18-82a5-88a417cc2aa6",
   "metadata": {},
   "source": [
    "# Theory of Symmetry Groups\n"
   ]
  },
  {
   "cell_type": "code",
   "execution_count": 1,
   "id": "5f0a27d3-6e56-4338-b773-8ed1d490e57f",
   "metadata": {},
   "outputs": [],
   "source": [
    "from symmart.operators import MatrixOperator, complete_group\n",
    "from symmart.wallpaper_groups import wallpaper_generators\n",
    "import sympy as sp\n",
    "import numpy as np\n",
    "from symmart.unitcell import SvgwriteCellDiagram\n",
    "from numpy import pi"
   ]
  },
  {
   "cell_type": "markdown",
   "id": "e37c9de2-b934-4f8b-8167-eb2ea7fe383d",
   "metadata": {},
   "source": [
    "\n",
    "## Operator Representation\n",
    "\n",
    "Farris prefers complex algebra for representing the symmetry groups. Projective geometric algebra ($PGA(2)$) would also be a good system to represent symmetry transformations. However, for a first implementation we go with familiar orthogonal matrices in homogeneous coordinates. Sympy is used to ensure there are no floating point issues."
   ]
  },
  {
   "cell_type": "code",
   "execution_count": 2,
   "id": "67153c47-3632-40b0-a371-2081c27c2ea1",
   "metadata": {},
   "outputs": [],
   "source": [
    "# fundamental operators\n",
    "half = sp.sympify(1)/2  # avoid floats\n",
    "𝜏1 = MatrixOperator([[1, 0, 1], [0, 1, 0], [0, 0, 1]],\"𝜏1\")\n",
    "𝜏i = MatrixOperator([[1, 0, 0], [0, 1, 1], [0, 0, 1]],\"𝜏i\")\n",
    "𝜌2 = MatrixOperator([[-1, 0, 0], [0, -1, 0], [0, 0, 1]],\"𝜌2\")\n",
    "# rectangular/square lattice\n",
    "𝜎x = MatrixOperator([[1, 0, 0], [0, -1, 0], [0, 0, 1]],\"𝜎x\")\n",
    "𝛾y = MatrixOperator([[-1, 0, 0], [0, 1, half], [0, 0, 1]],\"𝜎y\")\n",
    "𝜌4 = MatrixOperator([[0, -1, 0], [1, 0, 0], [0, 0, 1]], \"𝜌4\")\n",
    "𝜎c = MatrixOperator([[0, 1, 0], [1, 0, 0], [0, 0, 1]], \"𝜎c\")\n",
    "# hex lattice\n",
    "𝜌3 = MatrixOperator([[0, -1, 0], [1, -1, 0], [0, 0, 1]], \"𝜌3\")\n",
    "𝜌6 = MatrixOperator(𝜌3 ** 2 * 𝜌2, \"𝜌6\")\n",
    "𝜎y_hex = MatrixOperator([[-1, 1, 0], [0, 1, 0], [0, 0, 1]], \"𝜎y\")\n",
    "𝜎x_hex = MatrixOperator([[1, -1, 0], [0, -1, 0], [0, 0, 1]], \"𝜎x\")\n"
   ]
  },
  {
   "cell_type": "code",
   "execution_count": 3,
   "id": "78c45105-40cc-4800-939b-1d0eda2984d5",
   "metadata": {},
   "outputs": [
    {
     "data": {
      "text/latex": [
       "$\\displaystyle \\left[\\begin{matrix}-1\\\\-1\\\\1\\end{matrix}\\right]$"
      ],
      "text/plain": [
       "Matrix([\n",
       "[-1],\n",
       "[-1],\n",
       "[ 1]])"
      ]
     },
     "execution_count": 3,
     "metadata": {},
     "output_type": "execute_result"
    }
   ],
   "source": [
    "# Operators transform points in homogeneous coordinates\n",
    "x = sp.Matrix([1,1,1])\n",
    "𝜌2(x)"
   ]
  },
  {
   "cell_type": "code",
   "execution_count": 4,
   "id": "07d29e9b-7735-4909-8c62-05f908bb2c69",
   "metadata": {
    "tags": []
   },
   "outputs": [
    {
     "data": {
      "text/latex": [
       "$\\displaystyle \\left[\\begin{matrix}-1\\\\-1\\\\1\\end{matrix}\\right]$"
      ],
      "text/plain": [
       "Matrix([\n",
       "[-1],\n",
       "[-1],\n",
       "[ 1]])"
      ]
     },
     "execution_count": 4,
     "metadata": {},
     "output_type": "execute_result"
    }
   ],
   "source": [
    "# Internally this is just matrix multiplication\n",
    "𝜌2.mat @ x"
   ]
  },
  {
   "cell_type": "markdown",
   "id": "045ff44e-09a2-42f1-a53f-af8707e1dbe5",
   "metadata": {},
   "source": [
    "## Fixed points & stable lines\n",
    "\n",
    "Fixed points of rotation and reflection operators obey $Ax = x$. Thus eigenvectors corresponding to eigenvalue 1 give fixed points or lines. In homogeneous coordinates points have a third coordinate of 1, while pure vectors have coordinate 0. This allows the fixed points to be distinguished from stable lines.\n",
    "\n",
    "Rotations have a single point:"
   ]
  },
  {
   "cell_type": "code",
   "execution_count": 5,
   "id": "e7186198-bdac-401f-8150-c46d8e069738",
   "metadata": {},
   "outputs": [
    {
     "data": {
      "text/plain": [
       "[(-1,\n",
       "  2,\n",
       "  [Matrix([\n",
       "   [1],\n",
       "   [0],\n",
       "   [0]]),\n",
       "   Matrix([\n",
       "   [0],\n",
       "   [1],\n",
       "   [0]])]),\n",
       " (1,\n",
       "  1,\n",
       "  [Matrix([\n",
       "   [0],\n",
       "   [0],\n",
       "   [1]])])]"
      ]
     },
     "execution_count": 5,
     "metadata": {},
     "output_type": "execute_result"
    }
   ],
   "source": [
    "# 2-fold, fixed point at origin\n",
    "𝜌2.mat.eigenvects()"
   ]
  },
  {
   "cell_type": "code",
   "execution_count": 6,
   "id": "50db5d8b-ae4f-4472-a608-545d8e61a25a",
   "metadata": {
    "tags": []
   },
   "outputs": [
    {
     "data": {
      "text/plain": [
       "[0, 0]"
      ]
     },
     "execution_count": 6,
     "metadata": {},
     "output_type": "execute_result"
    }
   ],
   "source": [
    "𝜌2.fixed_point()"
   ]
  },
  {
   "cell_type": "code",
   "execution_count": 7,
   "id": "22821993-d1af-492d-b625-97389cccf237",
   "metadata": {},
   "outputs": [
    {
     "data": {
      "text/plain": [
       "[(-1,\n",
       "  2,\n",
       "  [Matrix([\n",
       "   [1],\n",
       "   [0],\n",
       "   [0]]),\n",
       "   Matrix([\n",
       "   [0],\n",
       "   [1],\n",
       "   [0]])]),\n",
       " (1,\n",
       "  1,\n",
       "  [Matrix([\n",
       "   [1/2],\n",
       "   [  0],\n",
       "   [  1]])])]"
      ]
     },
     "execution_count": 7,
     "metadata": {},
     "output_type": "execute_result"
    }
   ],
   "source": [
    "# 2-fold around (1/2,0)\n",
    "(𝜏1 * 𝜌2).mat.eigenvects()"
   ]
  },
  {
   "cell_type": "code",
   "execution_count": 8,
   "id": "4a6ae433-7a27-4901-a46b-05dc8c1e6aef",
   "metadata": {
    "tags": []
   },
   "outputs": [
    {
     "data": {
      "text/plain": [
       "[1/2, 0]"
      ]
     },
     "execution_count": 8,
     "metadata": {},
     "output_type": "execute_result"
    }
   ],
   "source": [
    "(𝜏1 * 𝜌2).fixed_point()"
   ]
  },
  {
   "cell_type": "markdown",
   "id": "eca56576-0386-443f-b9b0-8b523c8e7160",
   "metadata": {},
   "source": [
    "Reflections have a point plus a vector"
   ]
  },
  {
   "cell_type": "code",
   "execution_count": 9,
   "id": "82eaa899-4dc8-4e15-9bcd-e91101fdc777",
   "metadata": {},
   "outputs": [
    {
     "data": {
      "text/plain": [
       "[(-1,\n",
       "  1,\n",
       "  [Matrix([\n",
       "   [0],\n",
       "   [1],\n",
       "   [0]])]),\n",
       " (1,\n",
       "  2,\n",
       "  [Matrix([\n",
       "   [1],\n",
       "   [0],\n",
       "   [0]]),\n",
       "   Matrix([\n",
       "   [0],\n",
       "   [0],\n",
       "   [1]])])]"
      ]
     },
     "execution_count": 9,
     "metadata": {},
     "output_type": "execute_result"
    }
   ],
   "source": [
    "# reflection across y = 0\n",
    "𝜎x.mat.eigenvects()"
   ]
  },
  {
   "cell_type": "code",
   "execution_count": 10,
   "id": "ac10fcf5-ce90-4608-8fdc-b54075f63889",
   "metadata": {
    "tags": []
   },
   "outputs": [
    {
     "data": {
      "text/plain": [
       "([0, 0], [1, 0], [0, 0])"
      ]
     },
     "execution_count": 10,
     "metadata": {},
     "output_type": "execute_result"
    }
   ],
   "source": [
    "# Get stable line as a point, a vector parallel to the line, and a translation vector\n",
    "𝜎x.stable_line()"
   ]
  },
  {
   "cell_type": "markdown",
   "id": "8374dd36-6862-4990-893c-8bc39315d96e",
   "metadata": {},
   "source": [
    "Glide reflections have only a vector"
   ]
  },
  {
   "cell_type": "code",
   "execution_count": 11,
   "id": "1364e36f-fb40-4187-ae21-2bfb5a07b2d8",
   "metadata": {},
   "outputs": [
    {
     "data": {
      "text/plain": [
       "[(-1,\n",
       "  1,\n",
       "  [Matrix([\n",
       "   [1],\n",
       "   [0],\n",
       "   [0]])]),\n",
       " (1,\n",
       "  2,\n",
       "  [Matrix([\n",
       "   [0],\n",
       "   [1],\n",
       "   [0]])])]"
      ]
     },
     "execution_count": 11,
     "metadata": {},
     "output_type": "execute_result"
    }
   ],
   "source": [
    "# glide reflection across x = 0 by (0, 1/2)\n",
    "𝛾y.mat.eigenvects()"
   ]
  },
  {
   "cell_type": "code",
   "execution_count": 12,
   "id": "9bfe3c86-3dff-4e1f-9f2f-fa54e46a4a19",
   "metadata": {
    "tags": []
   },
   "outputs": [
    {
     "data": {
      "text/plain": [
       "([0, 0], [0, 1], [0, 1/2])"
      ]
     },
     "execution_count": 12,
     "metadata": {},
     "output_type": "execute_result"
    }
   ],
   "source": [
    "𝛾y.stable_line()"
   ]
  },
  {
   "cell_type": "code",
   "execution_count": 13,
   "id": "270d1e6e-b898-4a3c-876b-5f88ca6d53eb",
   "metadata": {},
   "outputs": [
    {
     "data": {
      "text/plain": [
       "[(-1,\n",
       "  1,\n",
       "  [Matrix([\n",
       "   [1],\n",
       "   [0],\n",
       "   [0]])]),\n",
       " (1,\n",
       "  2,\n",
       "  [Matrix([\n",
       "   [0],\n",
       "   [1],\n",
       "   [0]])])]"
      ]
     },
     "execution_count": 13,
     "metadata": {},
     "output_type": "execute_result"
    }
   ],
   "source": [
    "# glide at y=1/2, no fixed points but line parallel to y\n",
    "(𝜏1 * 𝛾y).mat.eigenvects()"
   ]
  },
  {
   "cell_type": "code",
   "execution_count": 14,
   "id": "d91b2f7f-265a-4dc0-9038-d8f9d11eb21a",
   "metadata": {
    "tags": []
   },
   "outputs": [
    {
     "data": {
      "text/plain": [
       "([1/2, 0], [0, 1], [0, 1/2])"
      ]
     },
     "execution_count": 14,
     "metadata": {},
     "output_type": "execute_result"
    }
   ],
   "source": [
    "(𝜏1 * 𝛾y).stable_line()"
   ]
  },
  {
   "cell_type": "code",
   "execution_count": 15,
   "id": "beac1634-22b4-4173-9db6-9fc44a2ba5fc",
   "metadata": {},
   "outputs": [
    {
     "data": {
      "text/latex": [
       "$\\displaystyle \\left[\\begin{matrix}-1 & 0 & 1\\\\0 & 1 & 0\\\\0 & 0 & 1\\end{matrix}\\right]$"
      ],
      "text/plain": [
       "Matrix([\n",
       "[-1, 0, 1],\n",
       "[ 0, 1, 0],\n",
       "[ 0, 0, 1]])"
      ]
     },
     "execution_count": 15,
     "metadata": {},
     "output_type": "execute_result"
    }
   ],
   "source": [
    "# Squaring the glide gives a pure translation, half of which can be\n",
    "# subtracted to give the equivalent mirror\n",
    "A = 𝜏1.mat * 𝛾y.mat - (𝜏1.mat * 𝛾y.mat) ** 2 / 2 + sp.eye(3) / 2\n",
    "A"
   ]
  },
  {
   "cell_type": "code",
   "execution_count": 16,
   "id": "7cbaf60d-fe75-4e47-be27-957aa613ce9d",
   "metadata": {},
   "outputs": [
    {
     "data": {
      "text/plain": [
       "[(-1,\n",
       "  1,\n",
       "  [Matrix([\n",
       "   [1],\n",
       "   [0],\n",
       "   [0]])]),\n",
       " (1,\n",
       "  2,\n",
       "  [Matrix([\n",
       "   [0],\n",
       "   [1],\n",
       "   [0]]),\n",
       "   Matrix([\n",
       "   [1/2],\n",
       "   [  0],\n",
       "   [  1]])])]"
      ]
     },
     "execution_count": 16,
     "metadata": {},
     "output_type": "execute_result"
    }
   ],
   "source": [
    "# glide at (1/2, 0) along y axis\n",
    "A.eigenvects()"
   ]
  },
  {
   "cell_type": "markdown",
   "id": "4bac8139-2d36-4c1f-a4aa-3d2025669fdc",
   "metadata": {},
   "source": [
    "The full plain is preserved under unit translation, so translations have two orthogonal unit eigenvectors."
   ]
  },
  {
   "cell_type": "code",
   "execution_count": 17,
   "id": "0fef738d-4ba7-47b1-a50f-63bdd14d868f",
   "metadata": {},
   "outputs": [
    {
     "data": {
      "text/plain": [
       "[(1,\n",
       "  3,\n",
       "  [Matrix([\n",
       "   [1],\n",
       "   [0],\n",
       "   [0]]),\n",
       "   Matrix([\n",
       "   [0],\n",
       "   [1],\n",
       "   [0]])])]"
      ]
     },
     "execution_count": 17,
     "metadata": {},
     "output_type": "execute_result"
    }
   ],
   "source": [
    "𝜏1.mat.eigenvects()"
   ]
  },
  {
   "cell_type": "markdown",
   "id": "9de51e0e-2c3a-4438-8327-e1ebf6866d90",
   "metadata": {},
   "source": [
    "Sometimes it is more convenient to represent a line as a normal vector and distance, rather than a point and vector. \n",
    "\n",
    "Given a line $f(t) = \\textbf{p} + \\textbf{l}t$, the corresponding normal form is $\\textbf{n} \\cdot \\textbf{x} = d$. $\\textbf{n}$ is a normalized vector perpendicular to $\\textbf{l}$:\n",
    "\n",
    "$$\n",
    "\\textbf{n} = \\frac{1}{\\left| \\textbf{l} \\right|^2} \\begin{bmatrix}\n",
    "           -l_y \\\\\n",
    "           l_x\n",
    "         \\end{bmatrix}\n",
    "$$\n",
    "\n",
    "The point on the line closest to the origin, $q$, is given by projecting $\\textbf{p}$ onto $\\textbf{n}$:\n",
    " \n",
    "$$\n",
    "\\begin{align*}\n",
    "\\textbf{q}\n",
    "&= \\left( \\textbf{p} \\cdot \\textbf{n}\\right) \\textbf{n} \\\\\n",
    "&= \\frac{l_x p_y - l_y p_x}{\\left| \\textbf{l} \\right|^2} \\begin{bmatrix}\n",
    "           -l_y \\\\\n",
    "           l_x\n",
    "         \\end{bmatrix}\n",
    "\\end{align*}\n",
    "$$"
   ]
  },
  {
   "cell_type": "code",
   "execution_count": 18,
   "id": "dc986fe6-b92b-44be-a008-2851b82c1a2d",
   "metadata": {
    "tags": []
   },
   "outputs": [
    {
     "data": {
      "text/plain": [
       "(1/2, 1/2)"
      ]
     },
     "execution_count": 18,
     "metadata": {},
     "output_type": "execute_result"
    }
   ],
   "source": [
    "# reflection across x + y = 1\n",
    "(px, py), (lx, ly), (tx, ty) = (𝜏1*𝜏i*𝜎x* 𝜌4).stable_line()\n",
    "q = (lx * py - ly * px) / (lx * lx + ly * ly)\n",
    "qx, qy = -ly * q, lx * q\n",
    "qx, qy"
   ]
  },
  {
   "cell_type": "markdown",
   "id": "995ff8d6-04b8-4d7c-95a2-d0e29e2e7afb",
   "metadata": {},
   "source": [
    "## Completing a group\n",
    "\n",
    "Given some generators of a group, find all operators for the group that pass through the unit cell. More precisely, find a 'canonical set' of operators such that there are no duplicates related by lattice translations. \n",
    "\n",
    "\n",
    "**Canonical Forms**\n",
    "\n",
    "The choice of canonical form is arbitrary. These are chosen so that all fixed points and stable lines pass through the unit cell. More specifically:\n",
    "\n",
    "    - point groups: the fixed point is in the unit cell\n",
    "    - reflection: Special cases were chosen (arbitrarily) for each stable line\n",
    "        - Horizontal: y = {0,1,2,3}/4\n",
    "        - Vertical: x = {0,1,2,3}/4\n",
    "        - Origin: x+y=0, x-2y=0, x-y=0, or 2x-y=0\n",
    "        - Diagonal: x+y=1/2, x-y=1/2, 2x-y=1/2, x-2y=1/2\n",
    "    - glide: same stable line constraints as reflections, plus\n",
    "        - One translational component must be (0,1/2), (1/2, 0), (1/2, ±1/2),\n",
    "          (1, 1/2) or (1/2, 1)\n",
    "    - translation: 1 or i only\n",
    "    - identity: False\n",
    "\n",
    "All powers of point groups are canonical. This means several operators might have the same fixed point (important for visualization).\n",
    "\n",
    "**Algorithm**\n",
    "\n",
    "Wallpaper groups are generated by two to four operators. These can be expanded into the full operator list by iteratively combining known operators and checking if a new (canonical) operator was created. Inverses of operators are also considered. The process terminates when no combination of canonical operator results in a new member of the group. (It is not trivial to show that all canonical operators can be written as combinations of *canonical* operators, but this procedure works in practice.)\n",
    "\n",
    "This algorithm is implemented in `symmart.operators.complete_group()`."
   ]
  },
  {
   "cell_type": "code",
   "execution_count": 19,
   "id": "b214dbc9-ee71-425f-9920-30e936efdd58",
   "metadata": {},
   "outputs": [
    {
     "name": "stdout",
     "output_type": "stream",
     "text": [
      "[x + 1, y]\n",
      "[x, y + 1]\n",
      "[-x, -y]\n"
     ]
    }
   ],
   "source": [
    "p2_gen = [MatrixOperator(𝜏1, \"𝜏1\"), MatrixOperator(𝜏i, \"𝜏i\"), MatrixOperator(𝜌2, \"𝜌2\")]\n",
    "print(\"\\n\".join(g.op_str() for g in p2_gen))"
   ]
  },
  {
   "cell_type": "code",
   "execution_count": 20,
   "id": "d553cf50-17bc-4eb5-986b-bca2cf3125fa",
   "metadata": {},
   "outputs": [
    {
     "name": "stdout",
     "output_type": "stream",
     "text": [
      "translation by (1, 0)                                       𝜏1                            \n",
      "translation by (0, 1)                                       𝜏i                            \n",
      "2-fold rotation around (0, 0)                               𝜌2                            \n",
      "2-fold rotation around (1/2, 0)                             𝜏1 * 𝜌2                       \n",
      "2-fold rotation around (0, 1/2)                             𝜏i * 𝜌2                       \n",
      "2-fold rotation around (1/2, 1/2)                           𝜏i * 𝜏1 * 𝜌2                  \n"
     ]
    }
   ],
   "source": [
    "print(\"\\n\".join(f\"{g.description():60}{g.name:30}\" for g in complete_group(p2_gen)))"
   ]
  },
  {
   "cell_type": "code",
   "execution_count": 21,
   "id": "c52afe1f-e26b-442f-84a6-11bac540ead1",
   "metadata": {},
   "outputs": [
    {
     "name": "stdout",
     "output_type": "stream",
     "text": [
      "[x + 1, y]\n",
      "[x, y + 1]\n",
      "[-x, -y]\n",
      "[x, -y]\n"
     ]
    }
   ],
   "source": [
    "pmm_gen = [\n",
    "    MatrixOperator(𝜏1, \"𝜏1\"),\n",
    "    MatrixOperator(𝜏i, \"𝜏i\"),\n",
    "    MatrixOperator(𝜌2, \"𝜌2\"),\n",
    "    MatrixOperator(𝜎x, \"𝜎x\"),\n",
    "]\n",
    "print(\"\\n\".join(g.op_str() for g in pmm_gen))"
   ]
  },
  {
   "cell_type": "code",
   "execution_count": 22,
   "id": "46a84e66-940d-4393-853a-5127b228e221",
   "metadata": {},
   "outputs": [
    {
     "name": "stdout",
     "output_type": "stream",
     "text": [
      "translation by (1, 0)                                       𝜏1                            \n",
      "translation by (0, 1)                                       𝜏i                            \n",
      "2-fold rotation around (0, 0)                               𝜌2                            \n",
      "reflection across y = 0                                     𝜎x                            \n",
      "2-fold rotation around (1/2, 0)                             𝜏1 * 𝜌2                       \n",
      "2-fold rotation around (0, 1/2)                             𝜏i * 𝜌2                       \n",
      "reflection across x = 0                                     𝜎x * 𝜌2                       \n",
      "reflection across y = 1/2                                   𝜏i * 𝜎x                       \n",
      "reflection across x = 1/2                                   𝜏1 * 𝜌2 * 𝜎x                  \n",
      "2-fold rotation around (1/2, 1/2)                           𝜏i * 𝜏1 * 𝜌2                  \n"
     ]
    }
   ],
   "source": [
    "pmm = complete_group(pmm_gen)\n",
    "print(\"\\n\".join(f\"{g.description():60}{g.name:30}\" for g in pmm))"
   ]
  },
  {
   "cell_type": "code",
   "execution_count": 23,
   "id": "47414620-c8c5-47d3-abc4-f2d1a7f04a17",
   "metadata": {},
   "outputs": [
    {
     "name": "stdout",
     "output_type": "stream",
     "text": [
      "translation by (1, 0)                                       𝜏1                            \n",
      "translation by (0, 1)                                       𝜏i                            \n",
      "reflection across x = 0                                     𝜎y                            \n",
      "reflection across x = 1/2                                   𝜏1 * 𝜎y                       \n"
     ]
    }
   ],
   "source": [
    "pm_gen = [\n",
    "    MatrixOperator(𝜏1, \"𝜏1\"),\n",
    "    MatrixOperator(𝜏i, \"𝜏i\"),\n",
    "    MatrixOperator(𝜌2 * 𝜎x, \"𝜎y\"),\n",
    "]\n",
    "pm = complete_group(pm_gen)\n",
    "print(\"\\n\".join(f\"{g.description():60}{g.name:30}\" for g in pm))"
   ]
  },
  {
   "cell_type": "code",
   "execution_count": 24,
   "id": "dd82a1e5-195e-4d6d-a847-e3589272c710",
   "metadata": {},
   "outputs": [
    {
     "name": "stdout",
     "output_type": "stream",
     "text": [
      "translation by (1, 0)                                       𝜏1                            \n",
      "4-fold rotation around (0, 0)                               𝜌4                            \n",
      "4-fold rotation around (0, 0)                               𝜌4⁻¹                          \n",
      "4-fold rotation around (1/2, 1/2)                           𝜏1 * 𝜌4                       \n",
      "2-fold rotation around (0, 0)                               𝜌4 * 𝜌4                       \n",
      "2-fold rotation around (1/2, 0)                             𝜏1 * 𝜌4 * 𝜌4                  \n",
      "2-fold rotation around (0, 1/2)                             𝜌4 * 𝜏1 * 𝜌4                  \n",
      "2-fold rotation around (1/2, 1/2)                           𝜏1 * 𝜌4 * 𝜏1 * 𝜌4             \n",
      "translation by (0, 1)                                       𝜌4 * 𝜏1 * 𝜌4 * 𝜌4 * 𝜌4        \n",
      "4-fold rotation around (1/2, 1/2)                           𝜌4 * 𝜏1 * 𝜌4 * 𝜌4             \n"
     ]
    }
   ],
   "source": [
    "𝜌4 = sp.Matrix([[0, -1, 0], [1, 0, 0], [0, 0, 1]])\n",
    "p4_gen = [MatrixOperator(𝜏1, \"𝜏1\"), MatrixOperator(𝜌4, \"𝜌4\")]\n",
    "p4 = complete_group(p4_gen)\n",
    "print(\"\\n\".join(f\"{g.description():60}{g.name:30}\" for g in p4))"
   ]
  },
  {
   "cell_type": "code",
   "execution_count": 25,
   "id": "acd99ae3-f176-4765-846d-098e4ea00b11",
   "metadata": {},
   "outputs": [
    {
     "name": "stdout",
     "output_type": "stream",
     "text": [
      "2-fold rotation around (0, 0)                               𝜌4 * 𝜌4                       \n",
      "4-fold rotation around (0, 0)                               𝜌4                            \n",
      "4-fold rotation around (0, 0)                               𝜌4⁻¹                          \n",
      "glide reflection across x + y = 1/2 by (1/2, -1/2)          𝜏1 * 𝜌4 * 𝜎c * 𝜌4⁻¹           \n",
      "glide reflection across x - y = 1/2 by (1/2, 1/2)           𝜏1 * 𝜎c                       \n",
      "reflection across x = -y                                    𝜌4 * 𝜌4 * 𝜎c                  \n",
      "reflection across x = 0                                     𝜎c * 𝜌4⁻¹                     \n",
      "reflection across x = 1/2                                   𝜏1 * 𝜌4 * 𝜎c                  \n",
      "reflection across x = y                                     𝜎c                            \n",
      "reflection across y = 0                                     𝜎c * 𝜌4                       \n",
      "reflection across y = 1/2                                   𝜎c * 𝜏1 * 𝜌4                  \n",
      "translation by (0, 1)                                       𝜌4 * 𝜏1 * 𝜌4 * 𝜌4 * 𝜌4        \n",
      "translation by (1, 0)                                       𝜏1                            \n",
      "2-fold rotation around (0, 1/2)                             𝜌4 * 𝜏1 * 𝜌4                  \n",
      "2-fold rotation around (1/2, 0)                             𝜏1 * 𝜌4 * 𝜌4                  \n",
      "2-fold rotation around (1/2, 1/2)                           𝜏1 * 𝜌4 * 𝜏1 * 𝜌4             \n",
      "4-fold rotation around (1/2, 1/2)                           𝜏1 * 𝜌4                       \n",
      "4-fold rotation around (1/2, 1/2)                           𝜎c * 𝜏1 * 𝜌4 * 𝜎c             \n"
     ]
    }
   ],
   "source": [
    "𝜎c = sp.Matrix([[0, 1, 0], [1, 0, 0], [0, 0, 1]])\n",
    "p4m_gen = [MatrixOperator(𝜏1, \"𝜏1\"), MatrixOperator(𝜌4, \"𝜌4\"), MatrixOperator(𝜎c, \"𝜎c\")]\n",
    "p4m = complete_group(p4m_gen)\n",
    "print(\n",
    "    \"\\n\".join(\n",
    "        f\"{g.description():60}{g.name:30}\"\n",
    "        for g in sorted(p4m, key=lambda g: (g.fixed_point() or [0, 0], g.description()))\n",
    "    )\n",
    ")"
   ]
  },
  {
   "cell_type": "code",
   "execution_count": 26,
   "id": "f1ba922d-ecf2-4dee-829d-3363f30f0a3d",
   "metadata": {},
   "outputs": [
    {
     "name": "stdout",
     "output_type": "stream",
     "text": [
      "3-fold rotation around (0, 0)                               𝜌3                            \n",
      "3-fold rotation around (0, 0)                               𝜌3⁻¹                          \n",
      "translation by (0, 1)                                       𝜌3 * 𝜏1 * 𝜌3 * 𝜌3             \n",
      "translation by (1, 0)                                       𝜏1                            \n",
      "3-fold rotation around (1/3, 2/3)                           𝜏1 * 𝜌3 * 𝜏1                  \n",
      "3-fold rotation around (1/3, 2/3)                           𝜌3 * 𝜏1 * 𝜌3                  \n",
      "3-fold rotation around (2/3, 1/3)                           𝜏1 * 𝜌3                       \n",
      "3-fold rotation around (2/3, 1/3)                           𝜏1 * 𝜌3 * 𝜏1 * 𝜌3             \n"
     ]
    }
   ],
   "source": [
    "𝜌3 = sp.Matrix([[0, -1, 0], [1, -1, 0], [0, 0, 1]])\n",
    "p3_gen = [MatrixOperator(𝜏1, \"𝜏1\"), MatrixOperator(𝜌3, \"𝜌3\")]\n",
    "p3 = complete_group(p3_gen)\n",
    "print(\n",
    "    \"\\n\".join(\n",
    "        f\"{g.description():60}{g.name:30}\"\n",
    "        for g in sorted(p3, key=lambda g: (g.fixed_point() or [0, 0], g.description()))\n",
    "    )\n",
    ")"
   ]
  },
  {
   "cell_type": "code",
   "execution_count": 27,
   "id": "63afae3b-e198-4ac1-b71b-cd838193585e",
   "metadata": {},
   "outputs": [
    {
     "name": "stdout",
     "output_type": "stream",
     "text": [
      "3-fold rotation around (0, 0)                               𝜌3                            \n",
      "3-fold rotation around (0, 0)                               𝜌3⁻¹                          \n",
      "glide reflection across x - y = 1/2 by (1/2, 1/2)           𝜏1 * 𝜌3 * 𝜎x                  \n",
      "glide reflection across x = 1/2 by (0, 1/2)                 𝜏1 * 𝜌3 * 𝜏1 * 𝜌3 * 𝜎x        \n",
      "glide reflection across y = 1/2 by (1/2, 0)                 𝜏1 * 𝜌3 * 𝜎x * 𝜏1 * 𝜌3        \n",
      "reflection across x = 0                                     𝜎x * 𝜌3                       \n",
      "reflection across x = y                                     𝜎x * 𝜌3⁻¹                     \n",
      "reflection across y = 0                                     𝜎x                            \n",
      "translation by (0, 1)                                       𝜎x * 𝜌3⁻¹ * 𝜏1 * 𝜌3 * 𝜎x      \n",
      "translation by (1, 0)                                       𝜏1                            \n",
      "3-fold rotation around (1/3, 2/3)                           𝜏1 * 𝜌3 * 𝜏1                  \n",
      "3-fold rotation around (1/3, 2/3)                           𝜌3 * 𝜏1 * 𝜌3                  \n",
      "3-fold rotation around (2/3, 1/3)                           𝜏1 * 𝜌3                       \n",
      "3-fold rotation around (2/3, 1/3)                           𝜏1 * 𝜌3 * 𝜏1 * 𝜌3             \n"
     ]
    }
   ],
   "source": [
    "p31m_gen = [\n",
    "    MatrixOperator(𝜏1, \"𝜏1\"),\n",
    "    MatrixOperator(𝜌3, \"𝜌3\"),\n",
    "    MatrixOperator(sp.Matrix([[1, -1, 0], [0, -1, 0], [0, 0, 1]]), \"𝜎x\"),\n",
    "]\n",
    "p31m = complete_group(p31m_gen)\n",
    "print(\n",
    "    \"\\n\".join(\n",
    "        f\"{g.description():60}{g.name:30}\"\n",
    "        for g in sorted(p31m, key=lambda g: (g.fixed_point() or [0, 0], g.description()))\n",
    "    )\n",
    ")"
   ]
  },
  {
   "cell_type": "code",
   "execution_count": 28,
   "id": "b2fd4573-4211-4934-89bd-83a4ea6f11c2",
   "metadata": {},
   "outputs": [
    {
     "name": "stdout",
     "output_type": "stream",
     "text": [
      "3-fold rotation around (0, 0)                               𝜌3                            \n",
      "3-fold rotation around (0, 0)                               𝜌3⁻¹                          \n",
      "glide reflection across 2⋅x - y = 1/2 by (1/2, 1)           𝜏1 * 𝜌3 * 𝜏1 * 𝜎y * 𝜌3        \n",
      "glide reflection across x + y = 1/2 by (1/2, -1/2)          𝜏1 * 𝜌3 * 𝜎y                  \n",
      "glide reflection across x - 2⋅y = 1/2 by (1, 1/2)           𝜏1 * 𝜌3 * 𝜎y * 𝜌3⁻¹           \n",
      "reflection across x = -y                                    𝜎y * 𝜌3⁻¹                     \n",
      "reflection across x = 2⋅y                                   𝜎y * 𝜌3                       \n",
      "reflection across y = 2⋅x                                   𝜎y                            \n",
      "translation by (0, 1)                                       𝜌3 * 𝜏1 * 𝜌3 * 𝜌3             \n",
      "translation by (1, 0)                                       𝜏1                            \n",
      "3-fold rotation around (1/3, 2/3)                           𝜏1 * 𝜌3 * 𝜏1                  \n",
      "3-fold rotation around (1/3, 2/3)                           𝜌3 * 𝜏1 * 𝜌3                  \n",
      "3-fold rotation around (2/3, 1/3)                           𝜏1 * 𝜌3                       \n",
      "3-fold rotation around (2/3, 1/3)                           𝜏1 * 𝜌3 * 𝜏1 * 𝜌3             \n"
     ]
    }
   ],
   "source": [
    "p3m1_gen = [\n",
    "    MatrixOperator(𝜏1, \"𝜏1\"),\n",
    "    MatrixOperator(𝜌3, \"𝜌3\"),\n",
    "    MatrixOperator(sp.Matrix([[-1, 1, 0], [0, 1, 0], [0, 0, 1]]), \"𝜎y\"),\n",
    "]\n",
    "p3m1 = complete_group(p3m1_gen)\n",
    "print(\n",
    "    \"\\n\".join(\n",
    "        f\"{g.description():60}{g.name:30}\"\n",
    "        for g in sorted(p3m1, key=lambda g: (g.fixed_point() or [0, 0], g.description()))\n",
    "    )\n",
    ")"
   ]
  },
  {
   "cell_type": "markdown",
   "id": "7bd410b1-d3ad-4258-a12f-27a18b1fcc71",
   "metadata": {},
   "source": [
    "## Cell Diagrams\n",
    "\n",
    "SymmArt can produce SVG images of cell diagrams."
   ]
  },
  {
   "cell_type": "code",
   "execution_count": 29,
   "id": "d6b7e3dd-4310-4936-b521-4a5aa5a43928",
   "metadata": {},
   "outputs": [
    {
     "data": {
      "image/svg+xml": [
       "<svg baseProfile=\"full\" height=\"200px\" version=\"1.1\" viewBox=\"-10.0,-110.0,120.0,120.0\" width=\"300px\" xmlns=\"http://www.w3.org/2000/svg\" xmlns:ev=\"http://www.w3.org/2001/xml-events\" xmlns:xlink=\"http://www.w3.org/1999/xlink\"><defs /><g transform=\"matrix(1 0 0 -1 0 0)\"><line stroke=\"black\" stroke-width=\"1\" x1=\"0.0\" x2=\"100.0\" y1=\"0.0\" y2=\"0.0\" /><line stroke=\"black\" stroke-width=\"1\" x1=\"100.0\" x2=\"100.0\" y1=\"0.0\" y2=\"100.0\" /><line stroke=\"black\" stroke-width=\"1\" x1=\"100.0\" x2=\"0.0\" y1=\"100.0\" y2=\"100.0\" /><line stroke=\"black\" stroke-width=\"1\" x1=\"0.0\" x2=\"0.0\" y1=\"100.0\" y2=\"0.0\" /><circle cx=\"0\" cy=\"0\" fill=\"red\" r=\"1\" /><polygon points=\"-3.5355339059327373,3.5355339059327378 -3.5355339059327386,-3.5355339059327373 3.5355339059327373,-3.5355339059327386 3.5355339059327386,3.535533905932737\" /><polygon points=\"46.46446609406726,53.53553390593274 46.46446609406726,46.46446609406726 53.53553390593274,46.46446609406726 53.53553390593274,53.53553390593274\" /><ellipse cx=\"50.0\" cy=\"0.0\" rx=\"2.5\" ry=\"5\" /><ellipse cx=\"0.0\" cy=\"50.0\" rx=\"2.5\" ry=\"5\" /></g></svg>"
      ],
      "text/plain": [
       "<svgwrite.drawing.Drawing at 0x10cd2adf0>"
      ]
     },
     "execution_count": 29,
     "metadata": {},
     "output_type": "execute_result"
    }
   ],
   "source": [
    "a = 100\n",
    "b = 100j\n",
    "dia = SvgwriteCellDiagram(a, b, size=(\"300px\", \"200px\"))\n",
    "dia.draw_cell()\n",
    "dia.draw_ops(p4_gen, expand=True)\n",
    "dia.draw()"
   ]
  },
  {
   "cell_type": "code",
   "execution_count": 30,
   "id": "3c9d2188-0dd4-4254-ada5-58df14d79c98",
   "metadata": {},
   "outputs": [
    {
     "data": {
      "image/svg+xml": [
       "<svg baseProfile=\"full\" height=\"200px\" version=\"1.1\" viewBox=\"-59.99999999999998,-96.60254037844388,169.99999999999997,106.60254037844388\" width=\"300px\" xmlns=\"http://www.w3.org/2000/svg\" xmlns:ev=\"http://www.w3.org/2001/xml-events\" xmlns:xlink=\"http://www.w3.org/1999/xlink\"><defs /><g transform=\"matrix(1 0 0 -1 0 0)\"><line stroke=\"black\" stroke-width=\"1\" x1=\"0.0\" x2=\"100.0\" y1=\"0.0\" y2=\"0.0\" /><line stroke=\"black\" stroke-width=\"1\" x1=\"100.0\" x2=\"50.00000000000002\" y1=\"0.0\" y2=\"86.60254037844388\" /><line stroke=\"black\" stroke-width=\"1\" x1=\"50.00000000000002\" x2=\"-49.99999999999998\" y1=\"86.60254037844388\" y2=\"86.60254037844388\" /><line stroke=\"black\" stroke-width=\"1\" x1=\"-49.99999999999998\" x2=\"0.0\" y1=\"86.60254037844388\" y2=\"0.0\" /><circle cx=\"0\" cy=\"0\" fill=\"red\" r=\"1\" /><polygon points=\"3.061616997868383e-16,5.0 -4.330127018922195,-2.499999999999997 4.330127018922192,-2.500000000000002\" /><polygon points=\"50.0,33.86751345948129 45.6698729810778,26.367513459481295 54.33012701892219,26.367513459481287\" /><polygon points=\"1.4517016414988842e-14,62.73502691896258 -4.330127018922181,55.23502691896258 4.330127018922206,55.23502691896258\" /></g></svg>"
      ],
      "text/plain": [
       "<svgwrite.drawing.Drawing at 0x10ccdb280>"
      ]
     },
     "execution_count": 30,
     "metadata": {},
     "output_type": "execute_result"
    }
   ],
   "source": [
    "a = 100\n",
    "b = 100 * np.exp(2j * pi / 3)\n",
    "dia = SvgwriteCellDiagram(a, b, size=(\"300px\", \"200px\"))\n",
    "dia.draw_cell()\n",
    "dia.draw_ops(p3_gen)\n",
    "dia.draw()"
   ]
  },
  {
   "cell_type": "code",
   "execution_count": 31,
   "id": "e358591a-8459-4cb8-84e6-f614015262d4",
   "metadata": {},
   "outputs": [
    {
     "data": {
      "image/svg+xml": [
       "<svg baseProfile=\"full\" height=\"200px\" version=\"1.1\" viewBox=\"-59.99999999999998,-96.60254037844388,169.99999999999997,106.60254037844388\" width=\"300px\" xmlns=\"http://www.w3.org/2000/svg\" xmlns:ev=\"http://www.w3.org/2001/xml-events\" xmlns:xlink=\"http://www.w3.org/1999/xlink\"><defs /><g transform=\"matrix(1 0 0 -1 0 0)\"><line stroke=\"black\" stroke-width=\"1\" x1=\"0.0\" x2=\"100.0\" y1=\"0.0\" y2=\"0.0\" /><line stroke=\"black\" stroke-width=\"1\" x1=\"100.0\" x2=\"50.00000000000002\" y1=\"0.0\" y2=\"86.60254037844388\" /><line stroke=\"black\" stroke-width=\"1\" x1=\"50.00000000000002\" x2=\"-49.99999999999998\" y1=\"86.60254037844388\" y2=\"86.60254037844388\" /><line stroke=\"black\" stroke-width=\"1\" x1=\"-49.99999999999998\" x2=\"0.0\" y1=\"86.60254037844388\" y2=\"0.0\" /><circle cx=\"0\" cy=\"0\" fill=\"red\" r=\"1\" /><line stroke=\"white\" stroke-width=\"3\" x1=\"-10.0\" x2=\"110.00000000000001\" y1=\"0.0\" y2=\"0.0\" /><line stroke=\"grey\" stroke-width=\"1\" x1=\"-10.0\" x2=\"110.00000000000001\" y1=\"0.9999999999999999\" y2=\"0.9999999999999999\" /><line stroke=\"grey\" stroke-width=\"1\" x1=\"-10.0\" x2=\"110.00000000000001\" y1=\"-0.9999999999999999\" y2=\"-0.9999999999999999\" /><line stroke=\"white\" stroke-width=\"3\" x1=\"4.999999999999998\" x2=\"-54.99999999999998\" y1=\"-8.660254037844387\" y2=\"95.26279441628827\" /><line stroke=\"grey\" stroke-width=\"1\" x1=\"4.133974596215559\" x2=\"-55.86602540378442\" y1=\"-9.160254037844387\" y2=\"94.76279441628827\" /><line stroke=\"grey\" stroke-width=\"1\" x1=\"5.8660254037844375\" x2=\"-54.13397459621554\" y1=\"-8.160254037844387\" y2=\"95.76279441628827\" /><line stroke=\"white\" stroke-width=\"3\" x1=\"-5.000000000000002\" x2=\"55.000000000000036\" y1=\"-8.660254037844387\" y2=\"95.26279441628827\" /><line stroke=\"grey\" stroke-width=\"1\" x1=\"-5.86602540378444\" x2=\"54.133974596215594\" y1=\"-8.160254037844387\" y2=\"95.76279441628827\" /><line stroke=\"grey\" stroke-width=\"1\" x1=\"-4.133974596215563\" x2=\"55.86602540378448\" y1=\"-9.160254037844387\" y2=\"94.76279441628827\" /><line stroke=\"grey\" stroke-dasharray=\"4,4\" stroke-width=\"1\" x1=\"45.0\" x2=\"80.00000000000003\" y1=\"-8.660254037844387\" y2=\"51.961524227066334\" /><line stroke=\"grey\" stroke-dasharray=\"4,4\" stroke-width=\"1\" x1=\"55.0\" x2=\"-4.999999999999979\" y1=\"-8.660254037844387\" y2=\"95.26279441628827\" /><line stroke=\"grey\" stroke-dasharray=\"4,4\" stroke-width=\"1\" x1=\"-34.999999999999986\" x2=\"85.00000000000003\" y1=\"43.30127018922194\" y2=\"43.30127018922194\" /><polygon points=\"3.061616997868383e-16,5.0 -4.330127018922195,-2.499999999999997 4.330127018922192,-2.500000000000002\" /><polygon points=\"50.0,33.86751345948129 45.6698729810778,26.367513459481295 54.33012701892219,26.367513459481287\" /><polygon points=\"1.4517016414988842e-14,62.73502691896258 -4.330127018922181,55.23502691896258 4.330127018922206,55.23502691896258\" /></g></svg>"
      ],
      "text/plain": [
       "<svgwrite.drawing.Drawing at 0x10cd58ac0>"
      ]
     },
     "execution_count": 31,
     "metadata": {},
     "output_type": "execute_result"
    }
   ],
   "source": [
    "a = 100\n",
    "b = 100 * np.exp(2j * pi / 3)\n",
    "dia = SvgwriteCellDiagram(a, b, size=(\"300px\", \"200px\"))\n",
    "dia.draw_cell()\n",
    "dia.draw_ops(p31m_gen)\n",
    "dia.draw()"
   ]
  },
  {
   "cell_type": "code",
   "execution_count": 32,
   "id": "571cef3d-783a-481e-a7c3-09902186dc19",
   "metadata": {},
   "outputs": [
    {
     "data": {
      "image/svg+xml": [
       "<svg baseProfile=\"full\" height=\"200px\" version=\"1.1\" viewBox=\"-59.99999999999998,-96.60254037844388,169.99999999999997,106.60254037844388\" width=\"300px\" xmlns=\"http://www.w3.org/2000/svg\" xmlns:ev=\"http://www.w3.org/2001/xml-events\" xmlns:xlink=\"http://www.w3.org/1999/xlink\"><defs /><g transform=\"matrix(1 0 0 -1 0 0)\"><line stroke=\"black\" stroke-width=\"1\" x1=\"0.0\" x2=\"100.0\" y1=\"0.0\" y2=\"0.0\" /><line stroke=\"black\" stroke-width=\"1\" x1=\"100.0\" x2=\"50.00000000000002\" y1=\"0.0\" y2=\"86.60254037844388\" /><line stroke=\"black\" stroke-width=\"1\" x1=\"50.00000000000002\" x2=\"-49.99999999999998\" y1=\"86.60254037844388\" y2=\"86.60254037844388\" /><line stroke=\"black\" stroke-width=\"1\" x1=\"-49.99999999999998\" x2=\"0.0\" y1=\"86.60254037844388\" y2=\"0.0\" /><circle cx=\"0\" cy=\"0\" fill=\"red\" r=\"1\" /><line stroke=\"white\" stroke-width=\"3\" x1=\"-1.7763568394002505e-15\" x2=\"2.842170943040401e-14\" y1=\"-8.660254037844387\" y2=\"95.26279441628827\" /><line stroke=\"grey\" stroke-width=\"1\" x1=\"-1.0000000000000018\" x2=\"-0.9999999999999716\" y1=\"-8.660254037844387\" y2=\"95.26279441628827\" /><line stroke=\"grey\" stroke-width=\"1\" x1=\"0.9999999999999982\" x2=\"1.0000000000000284\" y1=\"-8.660254037844387\" y2=\"95.26279441628827\" /><line stroke=\"white\" stroke-width=\"3\" x1=\"-7.500000000000001\" x2=\"82.50000000000003\" y1=\"-4.330127018922194\" y2=\"47.631397208144136\" /><line stroke=\"grey\" stroke-width=\"1\" x1=\"-8.0\" x2=\"82.00000000000003\" y1=\"-3.464101615137755\" y2=\"48.49742261192858\" /><line stroke=\"grey\" stroke-width=\"1\" x1=\"-7.000000000000001\" x2=\"83.00000000000003\" y1=\"-5.196152422706632\" y2=\"46.765371804359695\" /><line stroke=\"white\" stroke-width=\"3\" x1=\"14.999999999999998\" x2=\"-14.999999999999998\" y1=\"-8.660254037844387\" y2=\"8.660254037844387\" /><line stroke=\"grey\" stroke-width=\"1\" x1=\"14.499999999999998\" x2=\"-15.499999999999998\" y1=\"-9.526279441628827\" y2=\"7.794228634059949\" /><line stroke=\"grey\" stroke-width=\"1\" x1=\"15.499999999999998\" x2=\"-14.499999999999998\" y1=\"-7.794228634059949\" y2=\"9.526279441628827\" /><line stroke=\"grey\" stroke-dasharray=\"4,4\" stroke-width=\"1\" x1=\"65.0\" x2=\"-39.999999999999986\" y1=\"-8.660254037844387\" y2=\"51.96152422706633\" /><line stroke=\"grey\" stroke-dasharray=\"4,4\" stroke-width=\"1\" x1=\"35.0\" x2=\"95.00000000000001\" y1=\"-8.660254037844387\" y2=\"25.980762113533167\" /><line stroke=\"grey\" stroke-dasharray=\"4,4\" stroke-width=\"1\" x1=\"25.0\" x2=\"25.00000000000002\" y1=\"-8.660254037844387\" y2=\"95.26279441628827\" /><polygon points=\"3.061616997868383e-16,5.0 -4.330127018922195,-2.499999999999997 4.330127018922192,-2.500000000000002\" /><polygon points=\"50.0,33.86751345948129 45.6698729810778,26.367513459481295 54.33012701892219,26.367513459481287\" /><polygon points=\"1.4517016414988842e-14,62.73502691896258 -4.330127018922181,55.23502691896258 4.330127018922206,55.23502691896258\" /></g></svg>"
      ],
      "text/plain": [
       "<svgwrite.drawing.Drawing at 0x10cd2a3a0>"
      ]
     },
     "execution_count": 32,
     "metadata": {},
     "output_type": "execute_result"
    }
   ],
   "source": [
    "dia = SvgwriteCellDiagram(a, b, size=(\"300px\", \"200px\"))\n",
    "dia.draw_cell()\n",
    "dia.draw_ops(p3m1_gen)\n",
    "dia.draw()"
   ]
  },
  {
   "cell_type": "code",
   "execution_count": null,
   "id": "464c235b-55ab-4bbd-869e-b7b321323b7b",
   "metadata": {},
   "outputs": [],
   "source": []
  }
 ],
 "metadata": {
  "kernelspec": {
   "display_name": "Python [conda env:science]",
   "language": "python",
   "name": "conda-env-science-py"
  },
  "language_info": {
   "codemirror_mode": {
    "name": "ipython",
    "version": 3
   },
   "file_extension": ".py",
   "mimetype": "text/x-python",
   "name": "python",
   "nbconvert_exporter": "python",
   "pygments_lexer": "ipython3",
   "version": "3.9.15"
  }
 },
 "nbformat": 4,
 "nbformat_minor": 5
}
